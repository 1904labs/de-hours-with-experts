{
 "cells": [
  {
   "cell_type": "markdown",
   "metadata": {},
   "source": [
    "# Playgrouhnd this is just for testing in a notebook manner"
   ]
  },
  {
   "cell_type": "code",
   "execution_count": 12,
   "metadata": {},
   "outputs": [],
   "source": [
    "encoding = {\n",
    "    'y': 'a',\n",
    "    'h': 'b',\n",
    "    'v': 'c',\n",
    "    'x': 'd',\n",
    "    'k': 'e',\n",
    "    'p': 'f',\n",
    "    'z': 'g',\n",
    "    's': 'h',\n",
    "    'a': 'i',\n",
    "    'b': 'j',\n",
    "    'e': 'k',\n",
    "    'w': 'l',\n",
    "    'u': 'm',\n",
    "    'q': 'n',\n",
    "    'n': 'o',\n",
    "    'l': 'p',\n",
    "    'm': 'q',\n",
    "    'f': 'r',\n",
    "    'o': 's',\n",
    "    'i': 't',\n",
    "    'g': 'u',\n",
    "    'j': 'v',\n",
    "    't': 'w',\n",
    "    'd': 'x',\n",
    "    'r': 'y',\n",
    "    'c': 'z',\n",
    "    '3': '0',\n",
    "    '8': '1',\n",
    "    '4': '2',\n",
    "    '0': '3',\n",
    "    '2': '4',\n",
    "    '7': '5',\n",
    "    '5': '6',\n",
    "    '9': '7',\n",
    "    '1': '8',\n",
    "    '6': '9'\n",
    " }"
   ]
  },
  {
   "cell_type": "code",
   "execution_count": 312,
   "metadata": {},
   "outputs": [
    {
     "data": {
      "text/plain": [
       "'i'"
      ]
     },
     "execution_count": 312,
     "metadata": {},
     "output_type": "execute_result"
    }
   ],
   "source": [
    "encoding.get('a')"
   ]
  },
  {
   "cell_type": "code",
   "execution_count": 362,
   "metadata": {},
   "outputs": [
    {
     "data": {
      "text/plain": [
       "['8 vgl#hgiikf\\n',\n",
       " '8 vgl#xyfe hfntq ogzyf, lyvekx\\n',\n",
       " '8 vgl#zfyqgwyikx ogzyf\\n',\n",
       " '4#kzzo\\n',\n",
       " '8 ikyolnnq#jyqawwy\\n',\n",
       " '4 8/4 vglo#nyiukyw\\n',\n",
       " '4 vglo#pwngf\\n',\n",
       " '8/4 ikyolnnq#oywi\\n',\n",
       " '8 ikyolnnq#hyeaqz onxy\\n',\n",
       " '8 ikyolnnq#hyeaqz lntxkf\\n',\n",
       " '84 ngqvko#vsnvnwyik vsalo\\n',\n",
       " '8#2-ngqvk uawe vsnvnwyik hyf\\n',\n",
       " '8 8/4 vglo#vsnllkx qgio\\n']"
      ]
     },
     "execution_count": 362,
     "metadata": {},
     "output_type": "execute_result"
    }
   ],
   "source": [
    "file=open('secret_recipe.txt','r')\n",
    "file=file.readlines()\n",
    "file\n"
   ]
  },
  {
   "cell_type": "code",
   "execution_count": 358,
   "metadata": {},
   "outputs": [
    {
     "data": {
      "text/plain": [
       "'1 of 4-ounce milk chocolate bar'"
      ]
     },
     "execution_count": 358,
     "metadata": {},
     "output_type": "execute_result"
    }
   ],
   "source": [
    "text='8#2-ngqvk uawe vsnvnwyik hyf'\n",
    "word=[]\n",
    "for character in text:\n",
    "        if character not in encoding.keys():\n",
    "            encoding[character]=character\n",
    "        if character == '#':\n",
    "            encoding[character]=' of '\n",
    "        if character==character:\n",
    "            word.append(encoding.get(character))\n",
    "word=''.join(word)\n",
    "word"
   ]
  },
  {
   "cell_type": "code",
   "execution_count": 333,
   "metadata": {},
   "outputs": [
    {
     "name": "stdout",
     "output_type": "stream",
     "text": [
      "false\n"
     ]
    }
   ],
   "source": [
    "if len(text) > 0:\n",
    "    print('tues')\n",
    "else:\n",
    "    print('false')"
   ]
  },
  {
   "cell_type": "code",
   "execution_count": 351,
   "metadata": {},
   "outputs": [
    {
     "data": {
      "text/plain": [
       "dict_values(['a', 'b', 'c', 'd', 'e', 'f', 'g', 'h', 'i', 'j', 'k', 'l', 'm', 'n', 'o', 'p', 'q', 'r', 's', 't', 'u', 'v', 'w', 'x', 'y', 'z', '0', '1', '2', '3', '4', '5', '6', '7', '8', '9'])"
      ]
     },
     "execution_count": 351,
     "metadata": {},
     "output_type": "execute_result"
    }
   ],
   "source": [
    "encoding.values()"
   ]
  },
  {
   "cell_type": "code",
   "execution_count": 244,
   "metadata": {},
   "outputs": [
    {
     "name": "stdout",
     "output_type": "stream",
     "text": [
      "None\n"
     ]
    }
   ],
   "source": [
    "text='8/4 ikyolnnq#oywi'\n",
    "for character in text:\n",
    "    if character in encoding.keys():\n",
    "        continue\n",
    "    elif character == '#':\n",
    "        encoding[character]=' of '\n",
    "    else:\n",
    "        word=encoding.get(character)\n",
    "print(word)"
   ]
  },
  {
   "cell_type": "code",
   "execution_count": 94,
   "metadata": {},
   "outputs": [
    {
     "name": "stdout",
     "output_type": "stream",
     "text": [
      "a\n",
      "b\n",
      "c\n",
      "d\n",
      "e\n",
      "f\n",
      "g\n",
      "h\n",
      "i\n",
      "j\n",
      "k\n",
      "l\n",
      "m\n",
      "n\n",
      "o\n",
      "p\n",
      "q\n",
      "r\n",
      "s\n",
      "t\n",
      "u\n",
      "v\n",
      "w\n",
      "x\n",
      "y\n",
      "z\n",
      "0\n",
      "1\n",
      "2\n",
      "3\n",
      "4\n",
      "5\n",
      "6\n",
      "7\n",
      "8\n",
      "9\n"
     ]
    }
   ],
   "source": [
    "for k,v in encoding.items():\n",
    "    print(v)"
   ]
  },
  {
   "cell_type": "code",
   "execution_count": 6,
   "metadata": {},
   "outputs": [],
   "source": [
    "#!/usr/bin/python3\n",
    "import pydoc\n",
    "import sys\n",
    "import os\n",
    "import pytest\n",
    "\n",
    "# Caesar encoding, for use with decoding below\n",
    "ENCODING = {\n",
    "    'y': 'a',\n",
    "    'h': 'b',\n",
    "    'v': 'c',\n",
    "    'x': 'd',\n",
    "    'k': 'e',\n",
    "    'p': 'f',\n",
    "    'z': 'g',\n",
    "    's': 'h',\n",
    "    'a': 'i',\n",
    "    'b': 'j',\n",
    "    'e': 'k',\n",
    "    'w': 'l',\n",
    "    'u': 'm',\n",
    "    'q': 'n',\n",
    "    'n': 'o',\n",
    "    'l': 'p',\n",
    "    'm': 'q',\n",
    "    'f': 'r',\n",
    "    'o': 's',\n",
    "    'i': 't',\n",
    "    'g': 'u',\n",
    "    'j': 'v',\n",
    "    't': 'w',\n",
    "    'd': 'x',\n",
    "    'r': 'y',\n",
    "    'c': 'z',\n",
    "    '3': '0',\n",
    "    '8': '1',\n",
    "    '4': '2',\n",
    "    '0': '3',\n",
    "    '2': '4',\n",
    "    '7': '5',\n",
    "    '5': '6',\n",
    "    '9': '7',\n",
    "    '1': '8',\n",
    "    '6': '9'\n",
    " }\n",
    "\n",
    "\"\"\"An ingredient has an amount and a description.\n",
    "For example: an Ingredient could have \"1 cup\" as the amount and \"butter\" as the description.\"\"\"\n",
    "class Ingredient():\n",
    "    def __init__(self, amount, description) -> None:\n",
    "        self.amount = amount\n",
    "        self.description = description\n",
    "\n",
    "\n",
    "def decode_string(str):\n",
    "    \"\"\"Given a string named str, use the Caesar encoding above to return the decoded string.\"\"\"\n",
    "    # TODO: implement me\n",
    "    word=[]\n",
    "    for character in str:\n",
    "        if character not in ENCODING.keys():\n",
    "            pass\n",
    "        else:\n",
    "            word.append(ENCODING.get(character))\n",
    "    word=''.join(word)\n",
    "    return word\n",
    "\n",
    "\n",
    "def decode_ingredient(line):\n",
    "    \"\"\"Given an ingredient, decode the amount and description, and return a new Ingredient\"\"\"\n",
    "    # TODO: implement me\n",
    "    word=[]\n",
    "    for character in line:\n",
    "        if character not in ENCODING.keys():\n",
    "            ENCODING[character]=character\n",
    "        if character == '#':\n",
    "            ENCODING[character]=','\n",
    "        if character==character:\n",
    "            word.append(ENCODING.get(character))\n",
    "    word=''.join(word)\n",
    "    word=word.split(\",\")\n",
    "    Ingredient(word[0],word[1])\n",
    "    #word=str(word)\n",
    "    #word=word.strip('[]')\n",
    "    return word\n",
    "\n",
    "def main():\n",
    "    \"\"\"A program that decodes a secret recipe\"\"\"\n",
    "    # TODO: implement me\n",
    "\n",
    "if __name__ == \"__main__\":\n",
    "    main()\n"
   ]
  },
  {
   "cell_type": "code",
   "execution_count": 470,
   "metadata": {},
   "outputs": [
    {
     "data": {
      "text/plain": [
       "['1 cup', ' butter']"
      ]
     },
     "execution_count": 470,
     "metadata": {},
     "output_type": "execute_result"
    }
   ],
   "source": [
    "word"
   ]
  },
  {
   "cell_type": "code",
   "execution_count": 468,
   "metadata": {},
   "outputs": [
    {
     "name": "stdout",
     "output_type": "stream",
     "text": [
      "1 cup  butter\n"
     ]
    }
   ],
   "source": [
    "word=decode_ingredient(\"8 vgl#hgiikf\")\n",
    "print(str(word[0]),str(word[1]))"
   ]
  },
  {
   "cell_type": "code",
   "execution_count": 455,
   "metadata": {},
   "outputs": [],
   "source": [
    "word2=decode_ingredient(\"8 vgl#hgiikf\")"
   ]
  },
  {
   "cell_type": "code",
   "execution_count": 448,
   "metadata": {},
   "outputs": [
    {
     "data": {
      "text/plain": [
       "['1 cup', ' butter']"
      ]
     },
     "execution_count": 448,
     "metadata": {},
     "output_type": "execute_result"
    }
   ],
   "source": []
  },
  {
   "cell_type": "code",
   "execution_count": 450,
   "metadata": {},
   "outputs": [
    {
     "data": {
      "text/plain": [
       "\"['1 cup', ' butter']\""
      ]
     },
     "execution_count": 450,
     "metadata": {},
     "output_type": "execute_result"
    }
   ],
   "source": [
    "word2=str(word2)\n",
    "word2"
   ]
  },
  {
   "cell_type": "code",
   "execution_count": 451,
   "metadata": {},
   "outputs": [
    {
     "data": {
      "text/plain": [
       "\"'1 cup', ' butter'\""
      ]
     },
     "execution_count": 451,
     "metadata": {},
     "output_type": "execute_result"
    }
   ],
   "source": [
    "word2=word2.strip('[]')\n",
    "word2"
   ]
  },
  {
   "cell_type": "code",
   "execution_count": 486,
   "metadata": {},
   "outputs": [
    {
     "data": {
      "text/plain": [
       "['1', '4-ounce milk chocolate bar']"
      ]
     },
     "execution_count": 486,
     "metadata": {},
     "output_type": "execute_result"
    }
   ],
   "source": [
    "line='8#2-ngqvk uawe vsnvnwyik hyf'\n",
    "word=[]\n",
    "for character in line:\n",
    "    if character not in ENCODING.keys():\n",
    "        ENCODING[character]=character\n",
    "    if character==character:\n",
    "        word.append(ENCODING.get(character))\n",
    "word=''.join(word)\n",
    "word=word.split(\"#\")\n",
    "word"
   ]
  },
  {
   "cell_type": "code",
   "execution_count": 7,
   "metadata": {},
   "outputs": [
    {
     "ename": "NameError",
     "evalue": "name 'v' is not defined",
     "output_type": "error",
     "traceback": [
      "\u001b[1;31m---------------------------------------------------------------------------\u001b[0m",
      "\u001b[1;31mNameError\u001b[0m                                 Traceback (most recent call last)",
      "\u001b[1;32m<ipython-input-7-e0d5c27ab2d8>\u001b[0m in \u001b[0;36m<module>\u001b[1;34m\u001b[0m\n\u001b[0;32m      7\u001b[0m         \u001b[0minv_encoding\u001b[0m \u001b[1;33m=\u001b[0m \u001b[1;33m{\u001b[0m\u001b[0mv\u001b[0m\u001b[1;33m:\u001b[0m \u001b[0mk\u001b[0m \u001b[1;32mfor\u001b[0m \u001b[0mk\u001b[0m\u001b[1;33m,\u001b[0m \u001b[0mv\u001b[0m \u001b[1;32min\u001b[0m \u001b[0mENCODING\u001b[0m\u001b[1;33m.\u001b[0m\u001b[0mitems\u001b[0m\u001b[1;33m(\u001b[0m\u001b[1;33m)\u001b[0m\u001b[1;33m}\u001b[0m\u001b[1;33m\u001b[0m\u001b[1;33m\u001b[0m\u001b[0m\n\u001b[0;32m      8\u001b[0m         \u001b[1;31m#word.append(ENCODING.keys(character))\u001b[0m\u001b[1;33m\u001b[0m\u001b[1;33m\u001b[0m\u001b[1;33m\u001b[0m\u001b[0m\n\u001b[1;32m----> 9\u001b[1;33m         \u001b[0mword\u001b[0m\u001b[1;33m.\u001b[0m\u001b[0mappend\u001b[0m\u001b[1;33m(\u001b[0m\u001b[0mv\u001b[0m\u001b[1;33m)\u001b[0m\u001b[1;33m\u001b[0m\u001b[1;33m\u001b[0m\u001b[0m\n\u001b[0m\u001b[0;32m     10\u001b[0m \u001b[0mword\u001b[0m\u001b[1;33m=\u001b[0m\u001b[1;34m''\u001b[0m\u001b[1;33m.\u001b[0m\u001b[0mjoin\u001b[0m\u001b[1;33m(\u001b[0m\u001b[0mword\u001b[0m\u001b[1;33m)\u001b[0m\u001b[1;33m\u001b[0m\u001b[1;33m\u001b[0m\u001b[0m\n\u001b[0;32m     11\u001b[0m \u001b[0mword\u001b[0m\u001b[1;33m\u001b[0m\u001b[1;33m\u001b[0m\u001b[0m\n",
      "\u001b[1;31mNameError\u001b[0m: name 'v' is not defined"
     ]
    }
   ],
   "source": [
    "str='abc'\n",
    "word=[]\n",
    "for character in str:\n",
    "    if character not in ENCODING.values():\n",
    "        pass\n",
    "    else:\n",
    "        #word.append(ENCODING.keys(character))\n",
    "        word.append()\n",
    "word=''.join(word)\n",
    "word"
   ]
  },
  {
   "cell_type": "code",
   "execution_count": 11,
   "metadata": {},
   "outputs": [
    {
     "data": {
      "text/plain": [
       "'yhvvhy'"
      ]
     },
     "execution_count": 11,
     "metadata": {},
     "output_type": "execute_result"
    }
   ],
   "source": [
    "str='abc#cba'\n",
    "reversed_encoding = {value : key for (key, value) in ENCODING.items()}\n",
    "word=[]\n",
    "for character in str:\n",
    "    if character not in reversed_encoding.values():\n",
    "        pass\n",
    "    else:\n",
    "        word.append(reversed_encoding.get(character))\n",
    "word=''.join(word)\n",
    "word"
   ]
  },
  {
   "cell_type": "code",
   "execution_count": 5,
   "metadata": {},
   "outputs": [
    {
     "data": {
      "text/plain": [
       "{'a': 'y',\n",
       " 'b': 'h',\n",
       " 'c': 'v',\n",
       " 'd': 'x',\n",
       " 'e': 'k',\n",
       " 'f': 'p',\n",
       " 'g': 'z',\n",
       " 'h': 's',\n",
       " 'i': 'a',\n",
       " 'j': 'b',\n",
       " 'k': 'e',\n",
       " 'l': 'w',\n",
       " 'm': 'u',\n",
       " 'n': 'q',\n",
       " 'o': 'n',\n",
       " 'p': 'l',\n",
       " 'q': 'm',\n",
       " 'r': 'f',\n",
       " 's': 'o',\n",
       " 't': 'i',\n",
       " 'u': 'g',\n",
       " 'v': 'j',\n",
       " 'w': 't',\n",
       " 'x': 'd',\n",
       " 'y': 'r',\n",
       " 'z': 'c',\n",
       " '0': '3',\n",
       " '1': '8',\n",
       " '2': '4',\n",
       " '3': '0',\n",
       " '4': '2',\n",
       " '5': '7',\n",
       " '6': '5',\n",
       " '7': '9',\n",
       " '8': '1',\n",
       " '9': '6'}"
      ]
     },
     "execution_count": 5,
     "metadata": {},
     "output_type": "execute_result"
    }
   ],
   "source": [
    "reversed_dictionary = {value : key for (key, value) in ENCODING.items()}\n",
    "\n",
    "reversed_dictionary"
   ]
  },
  {
   "cell_type": "code",
   "execution_count": 47,
   "metadata": {},
   "outputs": [],
   "source": [
    "class Ingredient():\n",
    "    def __init__(self, amount, description) -> None:\n",
    "        self.amount = amount\n",
    "        self.description = description\n",
    "\n",
    "\n",
    "def encode_string(str):\n",
    "    \"\"\"Given a string named str, use the Caesar encoding above to return the decoded string.\"\"\"\n",
    "    # TODO: implement me\n",
    "    reversed_encoding = {value : key for (key, value) in ENCODING.items()}\n",
    "    word=[]\n",
    "    for character in str:\n",
    "        if character not in reversed_encoding.keys():\n",
    "            pass\n",
    "        else:\n",
    "            word.append(reversed_encoding.get(character))\n",
    "    word=''.join(word)\n",
    "    return word\n",
    "\n",
    "def decode_string(str):\n",
    "    # TODO: implement me\n",
    "    word=[]\n",
    "    for character in str:\n",
    "        if character not in ENCODING.keys():\n",
    "            pass\n",
    "        else:\n",
    "            word.append(ENCODING.get(character))\n",
    "    word=''.join(word)\n",
    "    return word\n",
    "\n",
    "def decode_ingredient(line):\n",
    "    \"\"\"Given an ingredient, decode the amount and description, and return a new Ingredient\"\"\"\n",
    "    # TODO: implement me\n",
    "    word=[]\n",
    "    for character in line:\n",
    "        if character not in ENCODING.keys():\n",
    "            ENCODING[character]=character\n",
    "        #if character==character:\n",
    "        word.append(ENCODING.get(character))\n",
    "    word=''.join(word)\n",
    "    word=word.split(\"#\")\n",
    "    #return Ingredient(str(word[0]),str(word[1]))\n",
    "    return Ingredient(word[0],word[1])\n",
    "    #return print(str(word[1]), str(word[0]))"
   ]
  },
  {
   "cell_type": "code",
   "execution_count": 48,
   "metadata": {},
   "outputs": [
    {
     "data": {
      "text/plain": [
       "<__main__.Ingredient at 0x28e2f731ee0>"
      ]
     },
     "execution_count": 48,
     "metadata": {},
     "output_type": "execute_result"
    }
   ],
   "source": [
    "decode_ingredient('8 vgl#hgiikf')"
   ]
  },
  {
   "cell_type": "code",
   "execution_count": 50,
   "metadata": {},
   "outputs": [
    {
     "data": {
      "text/plain": [
       "'butter'"
      ]
     },
     "execution_count": 50,
     "metadata": {},
     "output_type": "execute_result"
    }
   ],
   "source": [
    "actual=decode_ingredient('8 vgl#hgiikf')\n",
    "actual.amount\n",
    "actual.description"
   ]
  },
  {
   "cell_type": "code",
   "execution_count": 46,
   "metadata": {},
   "outputs": [
    {
     "data": {
      "text/plain": [
       "['1 cup', 'butter']"
      ]
     },
     "execution_count": 46,
     "metadata": {},
     "output_type": "execute_result"
    }
   ],
   "source": [
    "line='8 vgl#hgiikf'\n",
    "word=[]\n",
    "for character in line:\n",
    "    if character not in ENCODING.keys():\n",
    "        ENCODING[character]=character\n",
    "    #if character==character:\n",
    "    word.append(ENCODING.get(character))\n",
    "word=''.join(word)\n",
    "word=word.split(\"#\")\n",
    "Ingredient(word[0],word[1])\n",
    "#return Ingredient(str(word[0]),str(word[1]))\n",
    "#return Ingredient(word[0],word[1])\n",
    "#print(str(word[1]), str(word[0]))\n",
    "word"
   ]
  },
  {
   "cell_type": "code",
   "execution_count": 43,
   "metadata": {},
   "outputs": [],
   "source": [
    "recipe=Ingredient(word[0],word[1])"
   ]
  },
  {
   "cell_type": "code",
   "execution_count": 44,
   "metadata": {},
   "outputs": [
    {
     "data": {
      "text/plain": [
       "'1 cup'"
      ]
     },
     "execution_count": 44,
     "metadata": {},
     "output_type": "execute_result"
    }
   ],
   "source": [
    "recipe.amount"
   ]
  },
  {
   "cell_type": "code",
   "execution_count": 45,
   "metadata": {},
   "outputs": [
    {
     "data": {
      "text/plain": [
       "'butter'"
      ]
     },
     "execution_count": 45,
     "metadata": {},
     "output_type": "execute_result"
    }
   ],
   "source": [
    "recipe.description"
   ]
  },
  {
   "cell_type": "code",
   "execution_count": 53,
   "metadata": {},
   "outputs": [
    {
     "data": {
      "text/plain": [
       "'1 cup of butter'"
      ]
     },
     "execution_count": 53,
     "metadata": {},
     "output_type": "execute_result"
    }
   ],
   "source": [
    "str='8 vgl#hgiikf'\n",
    "word=[]\n",
    "for character in str:\n",
    "    if character not in ENCODING.keys():\n",
    "        ENCODING[character]=character\n",
    "    else:\n",
    "        pass\n",
    "    word.append(ENCODING.get(character))\n",
    "word=''.join(word)\n",
    "word= word.replace('#',' of ')\n",
    "word"
   ]
  },
  {
   "cell_type": "code",
   "execution_count": 66,
   "metadata": {},
   "outputs": [
    {
     "data": {
      "text/plain": [
       "'c:\\\\Users\\\\jonas\\\\Documents\\\\Jonas Personal\\\\Tech\\\\1904 Labs Data Engineering Class\\\\de-hours-with-experts\\\\python\\\\secret_recipe.txt'"
      ]
     },
     "execution_count": 66,
     "metadata": {},
     "output_type": "execute_result"
    }
   ],
   "source": [
    "cwd = os.getcwd()+'\\secret_recipe.txt'\n",
    "cwd"
   ]
  },
  {
   "cell_type": "code",
   "execution_count": 67,
   "metadata": {},
   "outputs": [
    {
     "data": {
      "text/plain": [
       "str"
      ]
     },
     "execution_count": 67,
     "metadata": {},
     "output_type": "execute_result"
    }
   ],
   "source": [
    "type(cwd)"
   ]
  },
  {
   "cell_type": "code",
   "execution_count": 62,
   "metadata": {},
   "outputs": [
    {
     "data": {
      "text/plain": [
       "['decoded_recipe.txt', 'secret_recipe.txt']"
      ]
     },
     "execution_count": 62,
     "metadata": {},
     "output_type": "execute_result"
    }
   ],
   "source": [
    "import glob\n",
    "\n",
    "glob.glob('*.txt')"
   ]
  },
  {
   "cell_type": "code",
   "execution_count": 1,
   "metadata": {},
   "outputs": [
    {
     "ename": "NameError",
     "evalue": "name 'decode_ingredient' is not defined",
     "output_type": "error",
     "traceback": [
      "\u001b[1;31m---------------------------------------------------------------------------\u001b[0m",
      "\u001b[1;31mNameError\u001b[0m                                 Traceback (most recent call last)",
      "\u001b[1;32m<ipython-input-1-4528f6340022>\u001b[0m in \u001b[0;36m<module>\u001b[1;34m\u001b[0m\n\u001b[0;32m      5\u001b[0m \u001b[0mnewfile\u001b[0m\u001b[1;33m=\u001b[0m\u001b[0mopen\u001b[0m\u001b[1;33m(\u001b[0m\u001b[1;34m'decoded_recipe.txt'\u001b[0m\u001b[1;33m,\u001b[0m\u001b[1;34m'w'\u001b[0m\u001b[1;33m)\u001b[0m\u001b[1;33m\u001b[0m\u001b[1;33m\u001b[0m\u001b[0m\n\u001b[0;32m      6\u001b[0m \u001b[1;32mfor\u001b[0m \u001b[0mlines\u001b[0m \u001b[1;32min\u001b[0m \u001b[0mfile\u001b[0m\u001b[1;33m:\u001b[0m\u001b[1;33m\u001b[0m\u001b[1;33m\u001b[0m\u001b[0m\n\u001b[1;32m----> 7\u001b[1;33m     \u001b[0mdecoded_recipe\u001b[0m\u001b[1;33m=\u001b[0m\u001b[0mdecode_ingredient\u001b[0m\u001b[1;33m(\u001b[0m\u001b[0mlines\u001b[0m\u001b[1;33m)\u001b[0m\u001b[1;33m\u001b[0m\u001b[1;33m\u001b[0m\u001b[0m\n\u001b[0m\u001b[0;32m      8\u001b[0m     \u001b[0mprint\u001b[0m\u001b[1;33m(\u001b[0m\u001b[0mlines\u001b[0m\u001b[1;33m)\u001b[0m\u001b[1;33m\u001b[0m\u001b[1;33m\u001b[0m\u001b[0m\n\u001b[0;32m      9\u001b[0m     \u001b[0mnewfile\u001b[0m\u001b[1;33m.\u001b[0m\u001b[0mwrite\u001b[0m\u001b[1;33m(\u001b[0m\u001b[0mdecoded_recipe\u001b[0m\u001b[1;33m)\u001b[0m\u001b[1;33m\u001b[0m\u001b[1;33m\u001b[0m\u001b[0m\n",
      "\u001b[1;31mNameError\u001b[0m: name 'decode_ingredient' is not defined"
     ]
    }
   ],
   "source": [
    "# TODO: implement me\n",
    "file=r\"C:/Users/jonas/Documents/Jonas Personal/Tech/1904 Labs Data Engineering Class/de-hours-with-experts/python/secret_recipe.txt\"\n",
    "file=open(file,'r')\n",
    "file=file.readlines()\n",
    "newfile=open('decoded_recipe.txt','w')\n",
    "for lines in file:\n",
    "    decoded_recipe=decode_ingredient(lines)\n",
    "    print(lines)\n",
    "    newfile.write(decoded_recipe)\n",
    "newfile.close()\n",
    "print(f'{newfile} has been created')"
   ]
  },
  {
   "cell_type": "code",
   "execution_count": 70,
   "metadata": {},
   "outputs": [
    {
     "data": {
      "text/plain": [
       "<__main__.Ingredient at 0x28e2ea595b0>"
      ]
     },
     "execution_count": 70,
     "metadata": {},
     "output_type": "execute_result"
    }
   ],
   "source": [
    "decoded_recipe"
   ]
  },
  {
   "cell_type": "code",
   "execution_count": 4,
   "metadata": {},
   "outputs": [],
   "source": [
    "cwd = os.getcwd()+'\\secret_recipe.txt'\n",
    "cwd=cwd.replace('\\\\','/')\n",
    "cwd=cwd.capitalize()"
   ]
  },
  {
   "cell_type": "code",
   "execution_count": 5,
   "metadata": {},
   "outputs": [
    {
     "data": {
      "text/plain": [
       "'C:/users/jonas/documents/jonas personal/tech/1904 labs data engineering class/de-hours-with-experts/python/secret_recipe.txt'"
      ]
     },
     "execution_count": 5,
     "metadata": {},
     "output_type": "execute_result"
    }
   ],
   "source": [
    "r\"{}\".format(cwd)"
   ]
  },
  {
   "cell_type": "code",
   "execution_count": 6,
   "metadata": {},
   "outputs": [
    {
     "data": {
      "text/plain": [
       "WindowsPath('C:/Users/jonas/Documents/Jonas Personal/Tech/1904 Labs Data Engineering Class/de-hours-with-experts/python')"
      ]
     },
     "execution_count": 6,
     "metadata": {},
     "output_type": "execute_result"
    }
   ],
   "source": [
    "import pathlib\n",
    "pathlib.Path().resolve()"
   ]
  },
  {
   "cell_type": "code",
   "execution_count": 8,
   "metadata": {},
   "outputs": [
    {
     "data": {
      "text/plain": [
       "'c:\\\\Users\\\\jonas\\\\Documents\\\\Jonas Personal\\\\Tech\\\\1904 Labs Data Engineering Class\\\\de-hours-with-experts\\\\python'"
      ]
     },
     "execution_count": 8,
     "metadata": {},
     "output_type": "execute_result"
    }
   ],
   "source": [
    "os.path.abspath(os.getcwd())\n"
   ]
  },
  {
   "cell_type": "code",
   "execution_count": 12,
   "metadata": {},
   "outputs": [
    {
     "name": "stdout",
     "output_type": "stream",
     "text": [
      "Current working directory: c:\\Users\\jonas\\Documents\\Jonas Personal\\Tech\\1904 Labs Data Engineering Class\\de-hours-with-experts\\python\n"
     ]
    }
   ],
   "source": [
    "# importing os module\n",
    "import os\n",
    "\t\n",
    "# Get the current directory path\n",
    "current_directory = os.getcwd()\n",
    "\t\n",
    "# Print the current working directory\n",
    "print(\"Current working directory:\", current_directory)"
   ]
  },
  {
   "cell_type": "code",
   "execution_count": 13,
   "metadata": {},
   "outputs": [
    {
     "name": "stdout",
     "output_type": "stream",
     "text": [
      "encoding string function worked\n",
      "\n",
      "decoding string function worked\n",
      "\n",
      "decoding file function worked\n"
     ]
    }
   ],
   "source": [
    "#!/usr/bin/python3\n",
    "import pydoc\n",
    "import sys\n",
    "import os\n",
    "import pytest\n",
    "\n",
    "# Caesar encoding, for use with decoding below\n",
    "ENCODING = {\n",
    "    'y': 'a',\n",
    "    'h': 'b',\n",
    "    'v': 'c',\n",
    "    'x': 'd',\n",
    "    'k': 'e',\n",
    "    'p': 'f',\n",
    "    'z': 'g',\n",
    "    's': 'h',\n",
    "    'a': 'i',\n",
    "    'b': 'j',\n",
    "    'e': 'k',\n",
    "    'w': 'l',\n",
    "    'u': 'm',\n",
    "    'q': 'n',\n",
    "    'n': 'o',\n",
    "    'l': 'p',\n",
    "    'm': 'q',\n",
    "    'f': 'r',\n",
    "    'o': 's',\n",
    "    'i': 't',\n",
    "    'g': 'u',\n",
    "    'j': 'v',\n",
    "    't': 'w',\n",
    "    'd': 'x',\n",
    "    'r': 'y',\n",
    "    'c': 'z',\n",
    "    '3': '0',\n",
    "    '8': '1',\n",
    "    '4': '2',\n",
    "    '0': '3',\n",
    "    '2': '4',\n",
    "    '7': '5',\n",
    "    '5': '6',\n",
    "    '9': '7',\n",
    "    '1': '8',\n",
    "    '6': '9'\n",
    " }\n",
    "\n",
    "\"\"\"An ingredient has an amount and a description.\n",
    "For example: an Ingredient could have \"1 cup\" as the amount and \"butter\" as the description.\"\"\"\n",
    "class Ingredient():\n",
    "    def __init__(self, amount, description) -> None:\n",
    "        self.amount = amount\n",
    "        self.description = description\n",
    "\n",
    "\n",
    "def encode_string(str):\n",
    "    \"\"\"Given a string named str, use the Caesar encoding above to return the decoded string.\"\"\"\n",
    "    # TODO: implement me\n",
    "    reversed_encoding = {value : key for (key, value) in ENCODING.items()}\n",
    "    word=[]\n",
    "    for character in str:\n",
    "        if character not in reversed_encoding.keys():\n",
    "            reversed_encoding[character]=character\n",
    "        else:\n",
    "            pass\n",
    "        word.append(reversed_encoding.get(character))\n",
    "    word=''.join(word)\n",
    "    word= word.replace('#',' of ')\n",
    "    return word\n",
    "\n",
    "def decode_string(str):\n",
    "    # TODO: implement me\n",
    "    word=[]\n",
    "    for character in str:\n",
    "        if character not in ENCODING.keys():\n",
    "            ENCODING[character]=character\n",
    "        else:\n",
    "            pass\n",
    "        word.append(ENCODING.get(character))\n",
    "    word=''.join(word)\n",
    "    word= word.replace('#',' of ')\n",
    "    return word\n",
    "\n",
    "def decode_ingredient(line):\n",
    "    \"\"\"Given an ingredient, decode the amount and description, and return a new Ingredient\"\"\"\n",
    "    # TODO: implement me\n",
    "    word=[]\n",
    "    for character in line:\n",
    "        if character not in ENCODING.keys():\n",
    "            ENCODING[character]=character\n",
    "        if character==character:\n",
    "            word.append(ENCODING.get(character))\n",
    "    word=''.join(word)\n",
    "    word=word.split(\"#\")\n",
    "    return Ingredient(word[0],word[1])\n",
    "\n",
    "def decode_recipe_file(file):\n",
    "    \"\"\"Decode and write txt file in a per-line fashion\"\"\"\n",
    "     # TODO: implement me\n",
    "    file=open(file,'r')\n",
    "    file=file.readlines()\n",
    "    newfile=open('decoded_recipe.txt','w')\n",
    "    for lines in file:\n",
    "        decoded_recipe=decode_string(lines)\n",
    "        newfile.write(decoded_recipe)\n",
    "    newfile.close()\n",
    "    return f'{newfile} has been created'\n",
    "\n",
    "def main():\n",
    "    \"\"\"A program that decodes a secret recipe\"\"\"\n",
    "    # TODO: implement me\n",
    "\n",
    "\n",
    "if __name__ == \"__main__\":\n",
    "    main()\n",
    "encode_string('Hi I am enjoying this project')\n",
    "print('encoding string function worked\\n')\n",
    "\n",
    "decode_ingredient('ikyolnnq#jyqawwy')\n",
    "print('decoding string function worked\\n')\n",
    "\n",
    "decode_recipe_file('secret_recipe.txt')\n",
    "print('decoding file function worked')"
   ]
  },
  {
   "cell_type": "code",
   "execution_count": 14,
   "metadata": {},
   "outputs": [
    {
     "data": {
      "text/plain": [
       "'Ha I yu kqbnraqz isao lfnbkvi'"
      ]
     },
     "execution_count": 14,
     "metadata": {},
     "output_type": "execute_result"
    }
   ],
   "source": [
    "encode_string('Hi I am enjoying this project')"
   ]
  },
  {
   "cell_type": "code",
   "execution_count": null,
   "metadata": {},
   "outputs": [],
   "source": [
    "asasas"
   ]
  }
 ],
 "metadata": {
  "interpreter": {
   "hash": "e13fbde980de64ebe8ecc83dcaa9890387b00b1392057b66f7247bbfe9ff4fae"
  },
  "kernelspec": {
   "display_name": "Python 3.8.8 64-bit ('STMLDS Presentation': conda)",
   "name": "python3"
  },
  "language_info": {
   "codemirror_mode": {
    "name": "ipython",
    "version": 3
   },
   "file_extension": ".py",
   "mimetype": "text/x-python",
   "name": "python",
   "nbconvert_exporter": "python",
   "pygments_lexer": "ipython3",
   "version": "3.8.8"
  },
  "orig_nbformat": 4
 },
 "nbformat": 4,
 "nbformat_minor": 2
}
