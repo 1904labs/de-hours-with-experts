{
 "cells": [
  {
   "cell_type": "code",
   "execution_count": null,
   "metadata": {},
   "outputs": [],
   "source": [
    "ENCODING = {\n",
    "    'y': 'a',\n",
    "    'h': 'b',\n",
    "    'v': 'c',\n",
    "    'x': 'd',\n",
    "    'k': 'e',\n",
    "    'p': 'f',\n",
    "    'z': 'g',\n",
    "    's': 'h',\n",
    "    'a': 'i',\n",
    "    'b': 'j',\n",
    "    'e': 'k',\n",
    "    'w': 'l',\n",
    "    'u': 'm',\n",
    "    'q': 'n',\n",
    "    'n': 'o',\n",
    "    'l': 'p',\n",
    "    'm': 'q',\n",
    "    'f': 'r',\n",
    "    'o': 's',\n",
    "    'i': 't',\n",
    "    'g': 'u',\n",
    "    'j': 'v',\n",
    "    't': 'w',\n",
    "    'd': 'x',\n",
    "    'r': 'y',\n",
    "    'c': 'z',\n",
    "    '3': '0',\n",
    "    '8': '1',\n",
    "    '4': '2',\n",
    "    '0': '3',\n",
    "    '2': '4',\n",
    "    '7': '5',\n",
    "    '5': '6',\n",
    "    '9': '7',\n",
    "    '1': '8',\n",
    "    '6': '9'\n",
    " }\n",
    "\n",
    " "
   ]
  },
  {
   "cell_type": "code",
   "execution_count": null,
   "metadata": {},
   "outputs": [],
   "source": [
    "class Ingredient():\n",
    "    def __init__(self, amount, description) -> None:\n",
    "        self.amount = amount\n",
    "        self.description = description\n",
    "    \n",
    "    def __repr__(self) -> str: \n",
    "        return f\"{self.amount} {self.description}\"\n",
    "        \n",
    "def decode_string(str):\n",
    "    \"\"\"Given a string named str, use the Caesar encoding above to return the decoded string.\"\"\"\n",
    "    result = ''\n",
    "    for character in str:\n",
    "        if character in ENCODING:\n",
    "            result = result + ENCODING[character]\n",
    "        else:\n",
    "            result = result + character\n",
    "    return result\n",
    "\n",
    "decode_string(\"yhv\")"
   ]
  },
  {
   "cell_type": "code",
   "execution_count": null,
   "metadata": {},
   "outputs": [],
   "source": [
    "text=\"4#kzzo\"\n",
    "\"\"\"Given a string named str, use the Caesar encoding above to return the decoded string.\"\"\"\n",
    "result = []\n",
    "for character in result:\n",
    "    if character not in ENCODING.keys():\n",
    "        ENCODING[character]=character\n",
    "    if character in ENCODING:\n",
    "        result.append(ENCODING[character])\n",
    "result=''.join(result)\n",
    "result= result.split('#')\n",
    "\n",
    "result\n",
    "\n"
   ]
  },
  {
   "cell_type": "code",
   "execution_count": null,
   "metadata": {},
   "outputs": [],
   "source": [
    "str='abc'\n",
    "result = ''\n",
    "for character in str:\n",
    "    if character in ENCODING:\n",
    "        result = result + ENCODING[character]\n",
    "    else:\n",
    "        result = result + character\n",
    "result"
   ]
  },
  {
   "cell_type": "code",
   "execution_count": null,
   "metadata": {},
   "outputs": [],
   "source": [
    "def decode_ingredient(line):\n",
    "    \"\"\"Given an ingredient, decode the amount and description, and return a new Ingredient\"\"\"\n",
    "    # TODO: implement me\n",
    "    word=[]\n",
    "    for character in line:\n",
    "        if character not in ENCODING.keys():\n",
    "            ENCODING[character]=character\n",
    "        if character == '#':\n",
    "            ENCODING[character]=' '\n",
    "        if character==character:\n",
    "            word.append(ENCODING.get(character))\n",
    "    word=''.join(word)\n",
    "    \n",
    "    return word"
   ]
  },
  {
   "cell_type": "code",
   "execution_count": null,
   "metadata": {},
   "outputs": [],
   "source": [
    "file=open('secret_recipe.txt','r')\n",
    "lines=file.readlines()\n",
    "newrecipe=open('decoded_recipe.txt','w')\n",
    "for item in lines:\n",
    "    decoded_recipe=decode_ingredient(item)\n",
    "    newrecipe.write(decoded_recipe)\n",
    "newrecipe.close()"
   ]
  },
  {
   "cell_type": "code",
   "execution_count": null,
   "metadata": {},
   "outputs": [],
   "source": []
  }
 ],
 "metadata": {
  "language_info": {
   "name": "python"
  },
  "orig_nbformat": 4
 },
 "nbformat": 4,
 "nbformat_minor": 2
}
