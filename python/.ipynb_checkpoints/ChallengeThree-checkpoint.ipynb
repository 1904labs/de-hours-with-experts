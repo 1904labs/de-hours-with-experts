{
 "cells": [
  {
   "cell_type": "code",
   "execution_count": 66,
   "id": "9ec68c48",
   "metadata": {},
   "outputs": [
    {
     "name": "stdout",
     "output_type": "stream",
     "text": [
      "Enter the encoded String: hgiikf\n",
      "Encoded string value of hgiikf is hgiikf\n"
     ]
    }
   ],
   "source": [
    "#!/usr/bin/python3\n",
    "import pydoc\n",
    "import sys\n",
    "import os\n",
    "\n",
    "#Challenge One\n",
    "\n",
    "# Caesar encoding, for use with decoding below\n",
    "ENCODING = {\n",
    "        'y': 'a',\n",
    "        'h': 'b',\n",
    "        'v': 'c',\n",
    "        'x': 'd',\n",
    "        'k': 'e',\n",
    "        'p': 'f',\n",
    "        'z': 'g',\n",
    "        's': 'h',\n",
    "        'a': 'i',\n",
    "        'b': 'j',\n",
    "        'e': 'k',\n",
    "        'w': 'l',\n",
    "        'u': 'm',\n",
    "        'q': 'n',\n",
    "        'n': 'o',\n",
    "        'l': 'p',\n",
    "        'm': 'q',\n",
    "        'f': 'r',\n",
    "        'o': 's',\n",
    "        'i': 't',\n",
    "        'g': 'u',\n",
    "        'j': 'v',\n",
    "        't': 'w',\n",
    "        'd': 'x',\n",
    "        'r': 'y',\n",
    "        'c': 'z',\n",
    "        '3': '0',\n",
    "        '8': '1',\n",
    "        '4': '2',\n",
    "        '0': '3',\n",
    "        '2': '4',\n",
    "        '7': '5',\n",
    "        '5': '6',\n",
    "        '9': '7',\n",
    "        '1': '8',\n",
    "        '6': '9'\n",
    "}\n",
    "    \n",
    "#Function to decode string - accepts the encoded string as parameter\n",
    "def decode_string(str):\n",
    "    \"\"\"Given a string named str, use the Caesar encoding above to return the decoded string.\"\"\"\n",
    "    str2 = \"\"\n",
    "    for character in str:\n",
    "        if str in ('abcdefghijklmnopqrstuvwxyz0123456789'):\n",
    "            str2 = str2 + ENCODING[character]\n",
    "        else:\n",
    "            str2 = str2 + character\n",
    "# return the decoded value\n",
    "    return str2\n",
    "\n",
    "#get the user input for encoded string\n",
    "encoded_string = input(\"Enter the encoded String: \")\n",
    "\n",
    "#get the decoded string\n",
    "d_string = decode_string(encoded_string)\n",
    "\n",
    "#print output\n",
    "print(\"Encoded string value of\", encoded_string, \"is\" , d_string)"
   ]
  },
  {
   "cell_type": "code",
   "execution_count": 67,
   "id": "e1a5cb0f",
   "metadata": {},
   "outputs": [
    {
     "name": "stdout",
     "output_type": "stream",
     "text": [
      "1 cup butter\n"
     ]
    }
   ],
   "source": [
    "#Challenge Two\n",
    "\n",
    "def decode_ingredient(line):\n",
    "    \"\"\"Given an ingredient, decode the amount and description, and return a new Ingredient\"\"\"\n",
    "#Split the encoded line at delimiter #\n",
    "    str3 = line.split(\"#\")\n",
    "#amount variable\n",
    "    amount = \"\"\n",
    "#description variable\n",
    "    description = \"\"\n",
    "# decode amount\n",
    "    for character in str3[0]:\n",
    "        if character in ('abcdefghijklmnopqrstuvwxyz0123456789'):\n",
    "            amount = amount + ENCODING[character]\n",
    "        else:\n",
    "            amount = amount + character\n",
    "#decode description\n",
    "    for character in str3[1]:\n",
    "        if character in ('abcdefghijklmnopqrstuvwxyz0123456789'):\n",
    "            description = description + ENCODING[character]\n",
    "        else:\n",
    "            description = description + character\n",
    "#store decoded values     \n",
    "    Ingredient = amount + \" \" + description\n",
    "# return decoded values\n",
    "    return Ingredient\n",
    "    \n",
    "def main():\n",
    "    \"\"\"A program that decodes a secret recipe\"\"\"\n",
    "    ingredient = \"8 vgl#hgiikf\"\n",
    "    decoded_value = decode_ingredient(ingredient)\n",
    "# print decoded value\n",
    "    print(decoded_value)\n",
    "\n",
    "if __name__ == \"__main__\":\n",
    "    main()"
   ]
  },
  {
   "cell_type": "code",
   "execution_count": 68,
   "id": "ec31d598",
   "metadata": {},
   "outputs": [
    {
     "name": "stdout",
     "output_type": "stream",
     "text": [
      "Secret has been decoded and receipe has been saved in decoded_recipe.txt file\n"
     ]
    }
   ],
   "source": [
    "#Challenge Three\n",
    "\n",
    "\"\"\"An ingredient has an amount and a description.\n",
    "For example: an Ingredient could have \"1 cup\" as the amount and \"butter\" as the description.\"\"\"\n",
    "class Ingredient():\n",
    "    def __init__(self, amount, description) -> None:\n",
    "        self.amount = amount\n",
    "        self.description = description\n",
    "\n",
    "        \n",
    "def main():\n",
    "    \"\"\"A program that decodes a secret recipe\"\"\"\n",
    "    # Read secret recipe file\n",
    "    file1 = open('secret_recipe.txt', 'r')\n",
    "    Lines = file1.readlines()\n",
    "    file2 = open('decoded_recipe.txt', 'w')\n",
    "    # Strips the newline character\n",
    "    for line in Lines:\n",
    "        decoded_line = decode_ingredient(line.strip())\n",
    "        # writing the recipe to file\n",
    "        file2.writelines(decoded_line)\n",
    "        file2.writelines(\"\\n\")\n",
    "\n",
    "    file1.close()\n",
    "    file2.close() \n",
    "\n",
    "    print(\"Secret has been decoded and receipe has been saved in decoded_recipe.txt file\")\n",
    "\n",
    "if __name__ == \"__main__\":\n",
    "    main()\n",
    "\n"
   ]
  }
 ],
 "metadata": {
  "kernelspec": {
   "display_name": "Python 3 (ipykernel)",
   "language": "python",
   "name": "python3"
  },
  "language_info": {
   "codemirror_mode": {
    "name": "ipython",
    "version": 3
   },
   "file_extension": ".py",
   "mimetype": "text/x-python",
   "name": "python",
   "nbconvert_exporter": "python",
   "pygments_lexer": "ipython3",
   "version": "3.10.9"
  }
 },
 "nbformat": 4,
 "nbformat_minor": 5
}
