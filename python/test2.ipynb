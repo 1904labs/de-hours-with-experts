{
 "cells": [
  {
   "cell_type": "code",
   "execution_count": 99,
   "metadata": {},
   "outputs": [],
   "source": [
    "ENCODING = {\n",
    "    'y': 'a',\n",
    "    'h': 'b',\n",
    "    'v': 'c',\n",
    "    'x': 'd',\n",
    "    'k': 'e',\n",
    "    'p': 'f',\n",
    "    'z': 'g',\n",
    "    's': 'h',\n",
    "    'a': 'i',\n",
    "    'b': 'j',\n",
    "    'e': 'k',\n",
    "    'w': 'l',\n",
    "    'u': 'm',\n",
    "    'q': 'n',\n",
    "    'n': 'o',\n",
    "    'l': 'p',\n",
    "    'm': 'q',\n",
    "    'f': 'r',\n",
    "    'o': 's',\n",
    "    'i': 't',\n",
    "    'g': 'u',\n",
    "    'j': 'v',\n",
    "    't': 'w',\n",
    "    'd': 'x',\n",
    "    'r': 'y',\n",
    "    'c': 'z',\n",
    "    '3': '0',\n",
    "    '8': '1',\n",
    "    '4': '2',\n",
    "    '0': '3',\n",
    "    '2': '4',\n",
    "    '7': '5',\n",
    "    '5': '6',\n",
    "    '9': '7',\n",
    "    '1': '8',\n",
    "    '6': '9'\n",
    " }"
   ]
  },
  {
   "cell_type": "code",
   "execution_count": 5,
   "metadata": {},
   "outputs": [
    {
     "data": {
      "text/plain": [
       "dict_values(['a', 'b', 'c', 'd', 'e', 'f', 'g', 'h', 'i', 'j', 'k', 'l', 'm', 'n', 'o', 'p', 'q', 'r', 's', 't', 'u', 'v', 'w', 'x', 'y', 'z', '0', '1', '2', '3', '4', '5', '6', '7', '8', '9'])"
      ]
     },
     "execution_count": 5,
     "metadata": {},
     "output_type": "execute_result"
    }
   ],
   "source": [
    "ENCODING.values()"
   ]
  },
  {
   "cell_type": "code",
   "execution_count": 31,
   "metadata": {},
   "outputs": [
    {
     "data": {
      "text/plain": [
       "['1/2 teaspoon', 'salt']"
      ]
     },
     "execution_count": 31,
     "metadata": {},
     "output_type": "execute_result"
    }
   ],
   "source": [
    "text='8/4 ikyolnnq#oywi'\n",
    "\n",
    "agarrador=[]\n",
    "for palabra in text:\n",
    "    if palabra not in ENCODING.keys():\n",
    "        ENCODING[palabra]=palabra\n",
    "    if palabra == '#':\n",
    "        ENCODING[palabra]=','\n",
    "    else:\n",
    "        pass\n",
    "    agarrador.append(ENCODING.get(palabra))\n",
    "\n",
    "agarrador=''.join(agarrador)\n",
    "agarrador=agarrador.split(',')\n",
    "agarrador"
   ]
  },
  {
   "cell_type": "code",
   "execution_count": 35,
   "metadata": {},
   "outputs": [
    {
     "data": {
      "text/plain": [
       "'1/2 teaspoon'"
      ]
     },
     "execution_count": 35,
     "metadata": {},
     "output_type": "execute_result"
    }
   ],
   "source": [
    "amount=agarrador[0]\n",
    "amount"
   ]
  },
  {
   "cell_type": "code",
   "execution_count": 34,
   "metadata": {},
   "outputs": [
    {
     "data": {
      "text/plain": [
       "'salt'"
      ]
     },
     "execution_count": 34,
     "metadata": {},
     "output_type": "execute_result"
    }
   ],
   "source": [
    "description=agarrador[1]\n",
    "description"
   ]
  },
  {
   "cell_type": "code",
   "execution_count": 113,
   "metadata": {},
   "outputs": [
    {
     "data": {
      "text/plain": [
       "'ihxhixhii///// ihxihx '"
      ]
     },
     "execution_count": 113,
     "metadata": {},
     "output_type": "execute_result"
    }
   ],
   "source": [
    "def decode_ingredient(line):\n",
    "    \"\"\"Given an ingredient, decode the amount and description, and return a new Ingredient\"\"\"\n",
    "    # TODO: implement me\n",
    "    word=[]\n",
    "    for character in line:\n",
    "        if character not in ENCODING.keys():\n",
    "            ENCODING[character]=character\n",
    "        if character == '#':\n",
    "            ENCODING[character]=' frankdivorcio '\n",
    "        if character==character:\n",
    "            word.append(ENCODING[character][0])\n",
    "            #word.append(ENCODING.get(character))\n",
    "    word=''.join(word)\n",
    "    #word=word.split(\"#\")\n",
    "    #return Ingredient(str(word[0]),str(word[1]))\n",
    "    return word\n",
    "\n",
    "decode_ingredient('asdsadsaa///// asdasd#')"
   ]
  },
  {
   "cell_type": "code",
   "execution_count": 49,
   "metadata": {},
   "outputs": [
    {
     "data": {
      "text/plain": [
       "\"['8 vgl#hgiikf\\\\n', '8 vgl#xyfe hfntq ogzyf, lyvekx\\\\n', '8 vgl#zfyqgwyikx ogzyf\\\\n', '4#kzzo\\\\n', '8 ikyolnnq#jyqawwy\\\\n', '4 8/4 vglo#nyiukyw\\\\n', '4 vglo#pwngf\\\\n', '8/4 ikyolnnq#oywi\\\\n', '8 ikyolnnq#hyeaqz onxy\\\\n', '8 ikyolnnq#hyeaqz lntxkf\\\\n', '84 ngqvko#vsnvnwyik vsalo\\\\n', '8#2-ngqvk uawe vsnvnwyik hyf\\\\n', '8 8/4 vglo#vsnllkx qgio\\\\n']\""
      ]
     },
     "execution_count": 49,
     "metadata": {},
     "output_type": "execute_result"
    }
   ],
   "source": [
    "file=open('secret_recipe.txt','r')\n",
    "lines=file.readlines()\n",
    "str(lines)"
   ]
  },
  {
   "cell_type": "code",
   "execution_count": 101,
   "metadata": {},
   "outputs": [],
   "source": [
    "def read_decode(file):\n",
    "    file=open(file,'r')\n",
    "    lines=str(file.readlines())\n",
    "    for item in lines:\n",
    "        print(item)\n",
    "        #decoded_recipe=decode_ingredient(item)\n",
    "        #decoded_recipe=''.join(decoded_recipe)\n",
    "    #decoded_recipe=open('decoded_recipe.txt','w')\n",
    "    #decoded_recipe=decoded_recipe.writelines(decoded_recipe)\n",
    "    #decoded_recipe= decoded_recipe.close()\n",
    "\n",
    "    return decoded_recipe\n",
    "\n",
    "    \n",
    "    "
   ]
  },
  {
   "cell_type": "code",
   "execution_count": 114,
   "metadata": {},
   "outputs": [],
   "source": [
    "file=open('secret_recipe.txt','r')\n",
    "lines=file.readlines()\n",
    "myfile=open('decoded_recipe.txt','w')\n",
    "for item in lines:\n",
    "    decoded_recipe=decode_ingredient(item)\n",
    "    myfile.write(decoded_recipe)\n",
    "myfile.close()\n",
    "\n"
   ]
  },
  {
   "cell_type": "code",
   "execution_count": 129,
   "metadata": {},
   "outputs": [],
   "source": [
    "def decode_ingredient(line):\n",
    "    \"\"\"Lveraing referenced py script function with minor chages to read txt files\"\"\"\n",
    "    # TODO: implement me\n",
    "    word=[]\n",
    "    for character in line:\n",
    "        if character not in ENCODING.keys():\n",
    "            ENCODING[character]=character\n",
    "        if character == '#':\n",
    "            ENCODING[character]= ' of '\n",
    "        if character==character:\n",
    "            word.append(ENCODING.get(character))\n",
    "    word=''.join(word)\n",
    "    return word\n",
    "\n",
    "def decode_recipe_file(file):\n",
    "    file=open(file,'r')\n",
    "    file=file.readlines()\n",
    "    myfile=open('decoded_recipe.txt','w')\n",
    "    for lines in file:\n",
    "        decoded_recipe=decode_ingredient(lines)\n",
    "        myfile.write(decoded_recipe)\n",
    "    myfile.close()\n",
    "    return f'{myfile} has been created'"
   ]
  },
  {
   "cell_type": "code",
   "execution_count": 130,
   "metadata": {},
   "outputs": [
    {
     "data": {
      "text/plain": [
       "\"<_io.TextIOWrapper name='decoded_recipe.txt' mode='w' encoding='cp1252'> has been created\""
      ]
     },
     "execution_count": 130,
     "metadata": {},
     "output_type": "execute_result"
    }
   ],
   "source": [
    "decode_recipe_file('secret_recipe.txt')"
   ]
  },
  {
   "cell_type": "code",
   "execution_count": null,
   "metadata": {},
   "outputs": [],
   "source": []
  }
 ],
 "metadata": {
  "interpreter": {
   "hash": "e13fbde980de64ebe8ecc83dcaa9890387b00b1392057b66f7247bbfe9ff4fae"
  },
  "kernelspec": {
   "display_name": "Python 3.8.8 ('STMLDS Presentation')",
   "language": "python",
   "name": "python3"
  },
  "language_info": {
   "codemirror_mode": {
    "name": "ipython",
    "version": 3
   },
   "file_extension": ".py",
   "mimetype": "text/x-python",
   "name": "python",
   "nbconvert_exporter": "python",
   "pygments_lexer": "ipython3",
   "version": "3.8.8"
  },
  "orig_nbformat": 4
 },
 "nbformat": 4,
 "nbformat_minor": 2
}
