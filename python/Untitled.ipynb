{
 "cells": [
  {
   "cell_type": "code",
   "execution_count": 1,
   "id": "minor-habitat",
   "metadata": {},
   "outputs": [],
   "source": [
    "import pydoc\n",
    "import sys\n",
    "import os\n",
    "\n",
    "# Caesar encoding, for use with decoding below\n",
    "ENCODING = {\n",
    "    'y': 'a',\n",
    "    'h': 'b',\n",
    "    'v': 'c',\n",
    "    'x': 'd',\n",
    "    'k': 'e',\n",
    "    'p': 'f',\n",
    "    'z': 'g',\n",
    "    's': 'h',\n",
    "    'a': 'i',\n",
    "    'b': 'j',\n",
    "    'e': 'k',\n",
    "    'w': 'l',\n",
    "    'u': 'm',\n",
    "    'q': 'n',\n",
    "    'n': 'o',\n",
    "    'l': 'p',\n",
    "    'm': 'q',\n",
    "    'f': 'r',\n",
    "    'o': 's',\n",
    "    'i': 't',\n",
    "    'g': 'u',\n",
    "    'j': 'v',\n",
    "    't': 'w',\n",
    "    'd': 'x',\n",
    "    'r': 'y',\n",
    "    'c': 'z',\n",
    "    '3': '0',\n",
    "    '8': '1',\n",
    "    '4': '2',\n",
    "    '0': '3',\n",
    "    '2': '4',\n",
    "    '7': '5',\n",
    "    '5': '6',\n",
    "    '9': '7',\n",
    "    '1': '8',\n",
    "    '6': '9'\n",
    " }\n"
   ]
  },
  {
   "cell_type": "code",
   "execution_count": 13,
   "id": "electronic-verification",
   "metadata": {},
   "outputs": [],
   "source": [
    "def decode_string(str):\n",
    "    \"\"\"Given a string named str, use the Caesar encoding above to return the decoded string.\"\"\"\n",
    "    # TODO: implement me\n",
    "    new = \"\"\n",
    "    for i in str:\n",
    "        i = ENCODING[i]\n",
    "        new = new + i\n",
    "    \n",
    "    return new"
   ]
  },
  {
   "cell_type": "code",
   "execution_count": 14,
   "id": "handed-pepper",
   "metadata": {},
   "outputs": [
    {
     "data": {
      "text/plain": [
       "'butter'"
      ]
     },
     "execution_count": 14,
     "metadata": {},
     "output_type": "execute_result"
    }
   ],
   "source": [
    "decode_string(\"hgiikf\")"
   ]
  },
  {
   "cell_type": "code",
   "execution_count": 179,
   "id": "still-prerequisite",
   "metadata": {},
   "outputs": [],
   "source": [
    "def decode_ingredient(line):\n",
    "    \"\"\"Given an ingredient, decode the amount and description, and return a new Ingredient\"\"\"\n",
    "    # TODO: implement me\n",
    "    \n",
    "    list = line.split('#')\n",
    "    \n",
    "    amount = ''\n",
    "    description = ''\n",
    "\n",
    "    for i in list:\n",
    "        if i != list[0]:\n",
    "            for g in i:\n",
    "                if g != ' ' and g != \",\" and g != '-':\n",
    "                    g = ENCODING[g]\n",
    "                    description = description + g\n",
    "                else: \n",
    "                    description = description + g\n",
    "        else:\n",
    "            for h in i:\n",
    "                if h != ' ' and h != '/':\n",
    "                    h = ENCODING[h]\n",
    "                    amount = amount + h\n",
    "\n",
    "                else:\n",
    "                    amount = amount + h\n",
    "\n",
    "    Ingredient = [amount, description]\n",
    "\n",
    "    return Ingredient\n",
    "    "
   ]
  },
  {
   "cell_type": "code",
   "execution_count": 180,
   "id": "cordless-launch",
   "metadata": {},
   "outputs": [
    {
     "data": {
      "text/plain": [
       "['1 cup', 'dark brown sugar, packed']"
      ]
     },
     "execution_count": 180,
     "metadata": {},
     "output_type": "execute_result"
    }
   ],
   "source": [
    "decode_ingredient(\"8 vgl#xyfe hfntq ogzyf, lyvekx\")"
   ]
  },
  {
   "cell_type": "code",
   "execution_count": 177,
   "id": "tribal-broadcast",
   "metadata": {},
   "outputs": [],
   "source": [
    "def decode_ingredient(line):\n",
    "    \"\"\"Given an ingredient, decode the amount and description, and return a new Ingredient\"\"\"\n",
    "    # TODO: implement me\n",
    "    \n",
    "    list = line.split('#')\n",
    "    print(list)\n",
    "    "
   ]
  },
  {
   "cell_type": "code",
   "execution_count": 178,
   "id": "institutional-twist",
   "metadata": {},
   "outputs": [
    {
     "name": "stdout",
     "output_type": "stream",
     "text": [
      "['8 vgl', 'xyfe hfntq ogzyf, lyvekx']\n"
     ]
    }
   ],
   "source": [
    "decode_ingredient('8 vgl#xyfe hfntq ogzyf, lyvekx')"
   ]
  },
  {
   "cell_type": "code",
   "execution_count": 261,
   "id": "stupid-camel",
   "metadata": {},
   "outputs": [],
   "source": [
    "def main():\n",
    "    \"\"\"A program that decodes a secret recipe\"\"\"\n",
    "    # TODO: implement me\n",
    "    contents = []\n",
    "   \n",
    "    with open('secret_recipe.txt') as f:\n",
    "        contents = f.readlines()\n",
    "    content_list = []    \n",
    "    content_list2 = []\n",
    "    \n",
    "    print(contents)\n",
    "    MyFile=open('decoded_recipe.txt','a')\n",
    "    \n",
    "    for content in contents:\n",
    "        content = content.strip('\\n')\n",
    "        \n",
    "        decode = decode_ingredient(content)\n",
    "        content_list = content_list + decode\n",
    "        \n",
    "        MyFile.writelines(decode)\n",
    "     \n",
    "        print(decode)\n",
    "      "
   ]
  },
  {
   "cell_type": "code",
   "execution_count": 262,
   "id": "intelligent-louis",
   "metadata": {},
   "outputs": [
    {
     "name": "stdout",
     "output_type": "stream",
     "text": [
      "['8 vgl#hgiikf\\n', '8 vgl#xyfe hfntq ogzyf, lyvekx\\n', '8 vgl#zfyqgwyikx ogzyf\\n', '4#kzzo\\n', '8 ikyolnnq#jyqawwy\\n', '4 8/4 vglo#nyiukyw\\n', '4 vglo#pwngf\\n', '8/4 ikyolnnq#oywi\\n', '8 ikyolnnq#hyeaqz onxy\\n', '8 ikyolnnq#hyeaqz lntxkf\\n', '84 ngqvko#vsnvnwyik vsalo\\n', '8#2-ngqvk uawe vsnvnwyik hyf\\n', '8 8/4 vglo#vsnllkx qgio\\n']\n",
      "['1 cup', 'butter']\n",
      "['1 cup', 'dark brown sugar, packed']\n",
      "['1 cup', 'granulated sugar']\n",
      "['2', 'eggs']\n",
      "['1 teaspoon', 'vanilla']\n",
      "['2 1/2 cups', 'oatmeal']\n",
      "['2 cups', 'flour']\n",
      "['1/2 teaspoon', 'salt']\n",
      "['1 teaspoon', 'baking soda']\n",
      "['1 teaspoon', 'baking powder']\n",
      "['12 ounces', 'chocolate chips']\n",
      "['1', '4-ounce milk chocolate bar']\n",
      "['1 1/2 cups', 'chopped nuts']\n"
     ]
    }
   ],
   "source": [
    "main()"
   ]
  },
  {
   "cell_type": "code",
   "execution_count": 99,
   "id": "circular-sheep",
   "metadata": {},
   "outputs": [],
   "source": [
    "def decode_list(list):\n",
    "    \n",
    "        amount = ''\n",
    "        description = ''\n",
    "\n",
    "        for i in list:\n",
    "            if i != list[0]:\n",
    "                for g in i:\n",
    "                    if g != ' ' and g != \",\":\n",
    "                        g = ENCODING[g]\n",
    "                        description = description + g\n",
    "                    else: \n",
    "                        description = description + g\n",
    "            else:\n",
    "                for h in i:\n",
    "                    if h != ' ':\n",
    "                        h = ENCODING[h]\n",
    "                        amount = amount + h\n",
    "\n",
    "                    else:\n",
    "                        amount = amount + h\n",
    "\n",
    "        Ingredient = [amount, description]\n",
    "\n",
    "        return Ingredient"
   ]
  },
  {
   "cell_type": "code",
   "execution_count": null,
   "id": "modular-honey",
   "metadata": {},
   "outputs": [],
   "source": []
  }
 ],
 "metadata": {
  "kernelspec": {
   "display_name": "Python 3",
   "language": "python",
   "name": "python3"
  },
  "language_info": {
   "codemirror_mode": {
    "name": "ipython",
    "version": 3
   },
   "file_extension": ".py",
   "mimetype": "text/x-python",
   "name": "python",
   "nbconvert_exporter": "python",
   "pygments_lexer": "ipython3",
   "version": "3.8.8"
  }
 },
 "nbformat": 4,
 "nbformat_minor": 5
}
