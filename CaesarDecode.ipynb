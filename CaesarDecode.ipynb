{
 "cells": [
  {
   "cell_type": "code",
   "execution_count": 1,
   "id": "3c7eabe6",
   "metadata": {},
   "outputs": [],
   "source": [
    "import pydoc\n",
    "import sys\n",
    "import os"
   ]
  },
  {
   "cell_type": "code",
   "execution_count": 1,
   "id": "1ca5171b",
   "metadata": {},
   "outputs": [],
   "source": [
    "# Caesar encoding, for use with decoding below\n",
    "ENCODING = {\n",
    "    'y': 'a',\n",
    "    'h': 'b',\n",
    "    'v': 'c',\n",
    "    'x': 'd',\n",
    "    'k': 'e',\n",
    "    'p': 'f',\n",
    "    'z': 'g',\n",
    "    's': 'h',\n",
    "    'a': 'i',\n",
    "    'b': 'j',\n",
    "    'e': 'k',\n",
    "    'w': 'l',\n",
    "    'u': 'm',\n",
    "    'q': 'n',\n",
    "    'n': 'o',\n",
    "    'l': 'p',\n",
    "    'm': 'q',\n",
    "    'f': 'r',\n",
    "    'o': 's',\n",
    "    'i': 't',\n",
    "    'g': 'u',\n",
    "    'j': 'v',\n",
    "    't': 'w',\n",
    "    'd': 'x',\n",
    "    'r': 'y',\n",
    "    'c': 'z',\n",
    "    '3': '0',\n",
    "    '8': '1',\n",
    "    '4': '2',\n",
    "    '0': '3',\n",
    "    '2': '4',\n",
    "    '7': '5',\n",
    "    '5': '6',\n",
    "    '9': '7',\n",
    "    '1': '8',\n",
    "    '6': '9'\n",
    " }\n",
    "\n",
    "\"\"\"An ingredient has an amount and a description.\n",
    "For example: an Ingredient could have \"1 cup\" as the amount and \"butter\" as the description.\"\"\"\n",
    "class Ingredient():\n",
    "    def __init__(self, amount, description) -> None:\n",
    "        self.amount = amount\n",
    "        self.description = description\n",
    "\n",
    "\n",
    "def decode_string(str):\n",
    "    \"\"\"Given a string named str, use the Caesar encoding above to return the decoded string.\"\"\"\n",
    "    # TODO: implement me\n",
    "    str1=\"\"\n",
    "    for i in str:\n",
    "        str1=str1+(ENCODING.get(i,i))\n",
    "    return str1\n",
    "\n",
    "def decode_ingredient(line):\n",
    "    \"\"\"Given an ingredient, decode the amount and description, and return a new Ingredient\"\"\"\n",
    "    # TODO: implement me\n",
    "    word1=line.split('#')\n",
    "    decoder=\"\"\n",
    "    for i in word1:\n",
    "        if decoder==\"\":\n",
    "            decoder=decoder+decode_string(i)\n",
    "        else:\n",
    "            decoder=decoder+\" \"+decode_string(i)\n",
    "    return decoder\n",
    "\n",
    "def main():\n",
    "    \"\"\"A program that decodes a secret recipe\"\"\"\n",
    "    # TODO: implement me\n",
    "    file2= open(\"decoded_recipe.txt\", \"w\")\n",
    "    with open(\"secret_recipe.txt\", \"r\") as scan:\n",
    "        file2.write(decode_ingredient(scan.read()))\n",
    "    file2.close()\n",
    "if __name__ == \"__main__\":\n",
    "    main()"
   ]
  },
  {
   "cell_type": "code",
   "execution_count": 10,
   "id": "c1f2427c",
   "metadata": {},
   "outputs": [
    {
     "ename": "LookupError",
     "evalue": "'base64' is not a text encoding; use codecs.encode() to handle arbitrary codecs",
     "output_type": "error",
     "traceback": [
      "\u001b[1;31m---------------------------------------------------------------------------\u001b[0m",
      "\u001b[1;31mLookupError\u001b[0m                               Traceback (most recent call last)",
      "\u001b[1;32mC:\\Users\\CODERG~1\\AppData\\Local\\Temp/ipykernel_10436/4162562063.py\u001b[0m in \u001b[0;36m<module>\u001b[1;34m\u001b[0m\n\u001b[0;32m      1\u001b[0m \u001b[1;31m#initializing string\u001b[0m\u001b[1;33m\u001b[0m\u001b[1;33m\u001b[0m\u001b[1;33m\u001b[0m\u001b[0m\n\u001b[0;32m      2\u001b[0m \u001b[0mStr\u001b[0m \u001b[1;33m=\u001b[0m \u001b[1;34m\"hgiikf!!!\"\u001b[0m\u001b[1;33m;\u001b[0m\u001b[1;33m\u001b[0m\u001b[1;33m\u001b[0m\u001b[0m\n\u001b[1;32m----> 3\u001b[1;33m \u001b[0mStr\u001b[0m \u001b[1;33m=\u001b[0m \u001b[0mStr\u001b[0m\u001b[1;33m.\u001b[0m\u001b[0mencode\u001b[0m\u001b[1;33m(\u001b[0m\u001b[1;34m'base64'\u001b[0m\u001b[1;33m,\u001b[0m\u001b[1;34m'strict'\u001b[0m\u001b[1;33m)\u001b[0m\u001b[1;33m;\u001b[0m\u001b[1;33m\u001b[0m\u001b[1;33m\u001b[0m\u001b[0m\n\u001b[0m\u001b[0;32m      4\u001b[0m \u001b[1;33m\u001b[0m\u001b[0m\n\u001b[0;32m      5\u001b[0m \u001b[0mprint\u001b[0m\u001b[1;33m(\u001b[0m\u001b[1;34m\"Encoded String: \"\u001b[0m \u001b[1;33m+\u001b[0m \u001b[0mStr\u001b[0m\u001b[1;33m)\u001b[0m\u001b[1;33m\u001b[0m\u001b[1;33m\u001b[0m\u001b[0m\n",
      "\u001b[1;31mLookupError\u001b[0m: 'base64' is not a text encoding; use codecs.encode() to handle arbitrary codecs"
     ]
    }
   ],
   "source": [
    " #initializing string  \n",
    "Str = \"hgiikf!!!\";\n",
    "Str = Str.encode('base64','strict');\n",
    "\n",
    "print(\"Encoded String: \" + Str)\n",
    "print(\"Decoded String: \" + Str.decode('base64','strict'))"
   ]
  },
  {
   "cell_type": "code",
   "execution_count": 21,
   "id": "0a64921a",
   "metadata": {},
   "outputs": [
    {
     "name": "stdout",
     "output_type": "stream",
     "text": [
      "1 cu\n"
     ]
    }
   ],
   "source": [
    "ENCODING = {\n",
    "    'y': 'a',\n",
    "    'h': 'b',\n",
    "    'v': 'c',\n",
    "    'x': 'd',\n",
    "    'k': 'e',\n",
    "    'p': 'f',\n",
    "    'z': 'g',\n",
    "    's': 'h',\n",
    "    'a': 'i',\n",
    "    'b': 'j',\n",
    "    'e': 'k',\n",
    "    'w': 'l',\n",
    "    'u': 'm',\n",
    "    'q': 'n',\n",
    "    'n': 'o',\n",
    "    'l': 'p',\n",
    "    'm': 'q',\n",
    "    'f': 'r',\n",
    "    'o': 's',\n",
    "    'i': 't',\n",
    "    'g': 'u',\n",
    "    'j': 'v',\n",
    "    't': 'w',\n",
    "    'd': 'x',\n",
    "    'r': 'y',\n",
    "    'c': 'z',\n",
    "    '3': '0',\n",
    "    '8': '1',\n",
    "    '4': '2',\n",
    "    '0': '3',\n",
    "    '2': '4',\n",
    "    '7': '5',\n",
    "    '5': '6',\n",
    "    '9': '7',\n",
    "    '1': '8',\n",
    "    '6': '9'\n",
    " }\n",
    "str1=\"1 test#test1\"\n",
    "word1=\"8 vg\"\n",
    "str1=\"\"\n",
    "for i in word1:\n",
    "    str1=str1+(ENCODING.get(i,\" \"))\n",
    "print(str1)"
   ]
  },
  {
   "cell_type": "code",
   "execution_count": null,
   "id": "f8966819",
   "metadata": {},
   "outputs": [],
   "source": []
  }
 ],
 "metadata": {
  "kernelspec": {
   "display_name": "Python 3 (ipykernel)",
   "language": "python",
   "name": "python3"
  },
  "language_info": {
   "codemirror_mode": {
    "name": "ipython",
    "version": 3
   },
   "file_extension": ".py",
   "mimetype": "text/x-python",
   "name": "python",
   "nbconvert_exporter": "python",
   "pygments_lexer": "ipython3",
   "version": "3.7.4"
  }
 },
 "nbformat": 4,
 "nbformat_minor": 5
}
